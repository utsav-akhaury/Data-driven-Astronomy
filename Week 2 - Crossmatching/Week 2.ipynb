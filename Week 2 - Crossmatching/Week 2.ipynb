{
 "cells": [
  {
   "cell_type": "markdown",
   "metadata": {},
   "source": [
    "# Week 2 - Crossmatching Catalogues\n",
    "#### "
   ]
  },
  {
   "cell_type": "code",
   "execution_count": 3,
   "metadata": {},
   "outputs": [],
   "source": [
    "import numpy as np\n",
    "import time\n",
    "from astropy.coordinates import SkyCoord\n",
    "from astropy import units as u"
   ]
  },
  {
   "cell_type": "markdown",
   "metadata": {},
   "source": [
    "### Convert from HMS & DMS notation to Decimal degrees"
   ]
  },
  {
   "cell_type": "code",
   "execution_count": 4,
   "metadata": {},
   "outputs": [
    {
     "name": "stdout",
     "output_type": "stream",
     "text": [
      "348.025\n",
      "22.955000000000002\n",
      "-66.08475\n"
     ]
    }
   ],
   "source": [
    "def hms2dec(h,m,s):\n",
    "  return 15*(h + m/60 + s/(60*60))\n",
    "\n",
    "def dms2dec(h,m,s):\n",
    "  return h*(1 + m/(abs(h)*60) + s/(abs(h)*60*60))  \n",
    "\n",
    "# The first example from the question\n",
    "print(hms2dec(23, 12, 6))\n",
    "\n",
    "# The second example from the question\n",
    "print(dms2dec(22, 57, 18))\n",
    "\n",
    "# The third example from the question\n",
    "print(dms2dec(-66, 5, 5.1))"
   ]
  },
  {
   "cell_type": "markdown",
   "metadata": {},
   "source": [
    "#### "
   ]
  },
  {
   "cell_type": "markdown",
   "metadata": {},
   "source": [
    "### Haversine Formula for calculating Angular Distance\n",
    "###### ",
    "\\begin{align}\n",
    "d = 2 \\arcsin \\sqrt{ \\sin^2 \\frac{|\\delta_1 - \\delta_2|}{2} + \\cos \\delta_1 \\cos \\delta_2 \\sin^2 \\frac{|\\alpha_1 - \\alpha_2|}{2} }\n",
    "\\end{align}"
   ]
  },
  {
   "cell_type": "code",
   "execution_count": 5,
   "metadata": {},
   "outputs": [
    {
     "name": "stdout",
     "output_type": "stream",
     "text": [
      "8.100392318146504\n",
      "29.208498180546595\n"
     ]
    }
   ],
   "source": [
    "def angular_dist(r1,d1,r2,d2):\n",
    "  r1, r2, d1, d2 = np.radians(r1), np.radians(r2), np.radians(d1), np.radians(d2)\n",
    "  a = np.sin(np.abs(d1 - d2)/2)**2\n",
    "  b = np.cos(d1)*np.cos(d2)*np.sin(np.abs(r1 - r2)/2)**2\n",
    "  d = 2*np.arcsin(np.sqrt(a + b))\n",
    "  return np.degrees(d)\n",
    "\n",
    "# Run your function with the first example in the question.\n",
    "print(angular_dist(21.07, 0.1, 21.15, 8.2))\n",
    "\n",
    "# Run your function with the second example in the question\n",
    "print(angular_dist(10.3, -3, 24.3, -29))"
   ]
  },
  {
   "cell_type": "markdown",
   "metadata": {},
   "source": [
    "#### "
   ]
  },
  {
   "cell_type": "markdown",
   "metadata": {},
   "source": [
    "### Reading data from AT20G BSS and SuperCOSMOS catalogues"
   ]
  },
  {
   "cell_type": "code",
   "execution_count": 6,
   "metadata": {},
   "outputs": [
    {
     "name": "stdout",
     "output_type": "stream",
     "text": [
      "Object ID  |  Right Ascension°  |  Declination°\n",
      "\n",
      "[(1, 1.1485416666666666, -47.60530555555555), (2, 2.6496666666666666, -30.463416666666664), (3, 2.7552916666666665, -26.209194444444442)]\n",
      "[(1, 1.0583407, -52.9162402), (2, 2.6084425, -41.5005753), (3, 2.7302499, -27.706955)]\n"
     ]
    }
   ],
   "source": [
    "def import_bss(path):\n",
    "  data = np.loadtxt(path, usecols=range(1, 7))\n",
    "  out = []\n",
    "  for i, row in enumerate(data, 1):\n",
    "    out.append((i, hms2dec(row[0], row[1], row[2]), dms2dec(row[3], row[4], row[5])))                  \n",
    "  return out\n",
    "\n",
    "def import_super(path):\n",
    "  data = np.loadtxt(path, delimiter=',', skiprows=1, usecols=[0, 1])\n",
    "  out = []\n",
    "  for i, row in enumerate(data, 1):\n",
    "    out.append((i, row[0], row[1]))  \n",
    "  return out\n",
    "\n",
    "# Output of the import_bss and import_super functions\n",
    "bss_cat = import_bss('Data 2/bss_truncated.dat')\n",
    "super_cat = import_super('Data 2/super_truncated.csv')\n",
    "\n",
    "print('Object ID  |  Right Ascension°  |  Declination°\\n')\n",
    "print(bss_cat)\n",
    "print(super_cat)"
   ]
  },
  {
   "cell_type": "markdown",
   "metadata": {},
   "source": [
    "#### "
   ]
  },
  {
   "cell_type": "markdown",
   "metadata": {},
   "source": [
    "### Finding closest neighbour for a target source (RA°, Dec°) from a catalogue"
   ]
  },
  {
   "cell_type": "code",
   "execution_count": 7,
   "metadata": {},
   "outputs": [
    {
     "name": "stdout",
     "output_type": "stream",
     "text": [
      "ID  |  Angular Distance°\n",
      "\n",
      "(156, 3.7670580226469013)\n",
      "(26, 57.729135775621295)\n"
     ]
    }
   ],
   "source": [
    "def find_closest(data, RA1, Dec1):\n",
    "  ind = 0\n",
    "  closest = angular_dist(RA1, Dec1, data[0][1], data[0][2])\n",
    "  for i, row in enumerate(data, 0):\n",
    "    test = angular_dist(RA1, Dec1, row[1], row[2])\n",
    "    if test < closest:\n",
    "      ind = i\n",
    "      closest = test\n",
    "  return (data[ind][0], closest)\n",
    "\n",
    "cat = import_bss('Data 2/bss.dat')\n",
    "print('ID  |  Angular Distance°\\n')\n",
    "\n",
    "# First example from the question\n",
    "print(find_closest(cat, 175.3, -32.5))\n",
    "\n",
    "# Second example in the question\n",
    "print(find_closest(cat, 32.2, 40.7))\n"
   ]
  },
  {
   "cell_type": "markdown",
   "metadata": {},
   "source": [
    "#### "
   ]
  },
  {
   "cell_type": "markdown",
   "metadata": {},
   "source": [
    "## Crossmatching 2 catalogues within a given distance"
   ]
  },
  {
   "cell_type": "code",
   "execution_count": 8,
   "metadata": {},
   "outputs": [
    {
     "name": "stdout",
     "output_type": "stream",
     "text": [
      "1st Object ID  |  2nd Object ID  |  Angular Distance°\n",
      "\n",
      "[(1, 2, 0.00010988610939332616), (2, 4, 0.0007649845967220993), (3, 5, 0.00020863352870707666)]\n",
      "Unmatched IDs from 1st Catalogue -  [5, 6, 11]\n",
      "No. of Unmatched objects in 1st Catalogue =  9 \n",
      "\n",
      "[(1, 2, 0.00010988610939332616), (2, 4, 0.0007649845967220993), (3, 5, 0.00020863352870707666)]\n",
      "Unmatched IDs from 1st Catalogue -  [5, 6, 11]\n",
      "No. of Unmatched objects in 1st Catalogue =  40\n"
     ]
    }
   ],
   "source": [
    "def crossmatch(cat1, cat2, dist):\n",
    "  matches, no_matches = [], []\n",
    "  for i, row in enumerate(cat1,1):\n",
    "    test = find_closest(cat2, row[1], row[2])\n",
    "    if  test[1] < dist:\n",
    "      matches.append((i, test[0], test[1]))\n",
    "    else:\n",
    "      no_matches.append(i)\n",
    "  return matches, no_matches\n",
    "\n",
    "bss_cat = import_bss('Data 2/bss (2).dat')\n",
    "super_cat = import_super('Data 2/super.csv')\n",
    "\n",
    "# First example in the question\n",
    "max_dist = 40/3600\n",
    "matches, no_matches = crossmatch(bss_cat, super_cat, max_dist)\n",
    "print('1st Object ID  |  2nd Object ID  |  Angular Distance°\\n')\n",
    "print(matches[:3])\n",
    "print('Unmatched IDs from 1st Catalogue - ', no_matches[:3])\n",
    "print('No. of Unmatched objects in 1st Catalogue = ', len(no_matches), '\\n')\n",
    "\n",
    "# Second example in the question\n",
    "max_dist = 5/3600\n",
    "matches, no_matches = crossmatch(bss_cat, super_cat, max_dist)\n",
    "print(matches[:3])\n",
    "print('Unmatched IDs from 1st Catalogue - ', no_matches[:3])\n",
    "print('No. of Unmatched objects in 1st Catalogue = ', len(no_matches))\n"
   ]
  },
  {
   "cell_type": "markdown",
   "metadata": {},
   "source": [
    "#### "
   ]
  },
  {
   "cell_type": "markdown",
   "metadata": {},
   "source": [
    "### Microoptimising the crossmatch"
   ]
  },
  {
   "cell_type": "code",
   "execution_count": 9,
   "metadata": {},
   "outputs": [
    {
     "name": "stdout",
     "output_type": "stream",
     "text": [
      "1st Object ID  |  2nd Object ID  |  Angular Distance°\n",
      "\n",
      "matches: [(0, 0, 2.0000000000000027), (2, 2, 1.7420109046547023)]\n",
      "unmatched: [1]\n",
      "time taken: 0.0003623000000061438 \n",
      "\n",
      "matches: []\n",
      "unmatched: [0, 1, 2, 3, 4, 5, 6, 7, 8, 9]\n",
      "time taken: 0.005214199999954872\n"
     ]
    }
   ],
   "source": [
    "def angular_dist(r1,d1,r2,d2):\n",
    "  a = np.sin(np.abs(d1 - d2)/2)**2\n",
    "  b = np.cos(d1)*np.cos(d2)*np.sin(np.abs(r1 - r2)/2)**2\n",
    "  d = 2*np.arcsin(np.sqrt(a + b))\n",
    "  return d\n",
    "\n",
    "def find_closest(data, RA1, Dec1):\n",
    "  ind = 0\n",
    "  closest = angular_dist(RA1, Dec1, data[0][0], data[0][1])\n",
    "  for i, row in enumerate(data, 0):\n",
    "    test = angular_dist(RA1, Dec1, row[0], row[1])\n",
    "    if test < closest:\n",
    "      closest = test\n",
    "      ind = i\n",
    "  return (ind, closest)\n",
    "\n",
    "def crossmatch(cat1, cat2, dist):\n",
    "  start = time.perf_counter()\n",
    "  matches, no_matches = [], []\n",
    "  cat1 = np.radians(cat1)\n",
    "  cat2 = np.radians(cat2)\n",
    "  dist = np.radians(dist)\n",
    "  for i, row in enumerate(cat1,0):\n",
    "    test = find_closest(cat2, row[0], row[1])\n",
    "    if  test[1] < dist:\n",
    "      matches.append((i, test[0], np.degrees(test[1])))\n",
    "    else:\n",
    "      no_matches.append(i)\n",
    "  seconds = time.perf_counter() - start\n",
    "  return matches, no_matches, seconds\n",
    "\n",
    "\n",
    "# The example in the question\n",
    "cat1 = np.array([[180, 30], [45, 10], [300, -45]])\n",
    "cat2 = np.array([[180, 32], [55, 10], [302, -44]])\n",
    "matches, no_matches, time_taken = crossmatch(cat1, cat2, 5)\n",
    "print('1st Object ID  |  2nd Object ID  |  Angular Distance°\\n')\n",
    "print('matches:', matches)\n",
    "print('unmatched:', no_matches)\n",
    "print('time taken:', time_taken, '\\n')\n",
    "\n",
    "# A function to create a random catalogue of size n\n",
    "def create_cat(n):\n",
    "    ras = np.random.uniform(0, 360, size=(n, 1))\n",
    "    decs = np.random.uniform(-90, 90, size=(n, 1))\n",
    "    return np.hstack((ras, decs))\n",
    "\n",
    "# Test your function on random inputs\n",
    "np.random.seed(0)\n",
    "cat1 = create_cat(10)\n",
    "cat2 = create_cat(20)\n",
    "matches, no_matches, time_taken = crossmatch(cat1, cat2, 5)\n",
    "print('matches:', matches)\n",
    "print('unmatched:', no_matches)\n",
    "print('time taken:', time_taken)"
   ]
  },
  {
   "cell_type": "markdown",
   "metadata": {},
   "source": [
    "#### "
   ]
  },
  {
   "cell_type": "markdown",
   "metadata": {},
   "source": [
    "### Vectorisation using NumPy"
   ]
  },
  {
   "cell_type": "code",
   "execution_count": 14,
   "metadata": {},
   "outputs": [
    {
     "name": "stdout",
     "output_type": "stream",
     "text": [
      "Angular distance° -  [  2.         113.72587199 132.64478705] \n",
      "\n",
      "matches: [(0, 0, 2.0000000000000027), (2, 2, 1.7420109046547023)]\n",
      "unmatched: [1]\n",
      "time taken: 0.00032420000025012996 \n",
      "\n",
      "matches: []\n",
      "unmatched: [0, 1, 2, 3, 4, 5, 6, 7, 8, 9]\n",
      "time taken: 0.0007706999999754771\n"
     ]
    }
   ],
   "source": [
    "def crossmatch_vect(cat1, cat2, max_radius):\n",
    "  start = time.perf_counter()\n",
    "  max_radius = np.radians(max_radius)\n",
    "  \n",
    "  matches, no_matches = [], []\n",
    "\n",
    "  # Convert coordinates to radians\n",
    "  cat1 = np.radians(cat1)\n",
    "  cat2 = np.radians(cat2)\n",
    "  ra2s = cat2[:,0]\n",
    "  dec2s = cat2[:,1]\n",
    "\n",
    "  for id1, (ra1, dec1) in enumerate(cat1):\n",
    "    dists = angular_dist(ra1, dec1, ra2s, dec2s)\n",
    "    min_id = np.argmin(dists)\n",
    "    min_dist = dists[min_id]\n",
    "    if min_dist > max_radius:\n",
    "      no_matches.append(id1)\n",
    "    else:\n",
    "      matches.append((id1, min_id, np.degrees(min_dist)))\n",
    "    \n",
    "  time_taken = time.perf_counter() - start\n",
    "  return matches, no_matches, time_taken\n",
    "\n",
    "# The example in the question\n",
    "ra1, dec1 = np.radians([180, 30])\n",
    "cat2 = [[180, 32], [55, 10], [302, -44]]\n",
    "cat2 = np.radians(cat2)\n",
    "ra2s, dec2s = cat2[:,0], cat2[:,1]\n",
    "dists = angular_dist(ra1, dec1, ra2s, dec2s)\n",
    "print('Angular distance° - ', np.degrees(dists), '\\n')\n",
    "\n",
    "cat1 = np.array([[180, 30], [45, 10], [300, -45]])\n",
    "cat2 = np.array([[180, 32], [55, 10], [302, -44]])\n",
    "matches, no_matches, time_taken = crossmatch_vect(cat1, cat2, 5)\n",
    "print('matches:', matches)\n",
    "print('unmatched:', no_matches)\n",
    "print('time taken:', time_taken, '\\n')\n",
    "\n",
    "# Test your function on random inputs\n",
    "cat1 = create_cat(10)     # Create a random catalogue of size 10\n",
    "cat2 = create_cat(20)\n",
    "matches, no_matches, time_taken = crossmatch_vect(cat1, cat2, 5)\n",
    "print('matches:', matches)\n",
    "print('unmatched:', no_matches)\n",
    "print('time taken:', time_taken)"
   ]
  },
  {
   "cell_type": "markdown",
   "metadata": {},
   "source": [
    "#### "
   ]
  },
  {
   "cell_type": "markdown",
   "metadata": {},
   "source": [
    "### Breaking out after maximum match radius : Searching within -90° < δ° < (δ + r)°"
   ]
  },
  {
   "cell_type": "code",
   "execution_count": 15,
   "metadata": {},
   "outputs": [
    {
     "name": "stdout",
     "output_type": "stream",
     "text": [
      "matches: [(0, 0, 2.0000000000000027), (2, 2, 1.7420109046547023)]\n",
      "unmatched: [1]\n",
      "time taken: 0.015049199999793927 \n",
      "\n",
      "matches: []\n",
      "unmatched: [0, 1, 2, 3, 4, 5, 6, 7, 8, 9]\n",
      "time taken: 0.006830000000263681\n"
     ]
    }
   ],
   "source": [
    "def crossmatch(cat1, cat2, max_radius):\n",
    "  start = time.perf_counter()\n",
    "  max_radius = np.radians(max_radius)  \n",
    "  matches, no_matches = [], []\n",
    "\n",
    "  cat1 = np.radians(cat1)\n",
    "  cat2 = np.radians(cat2)\n",
    "  order = np.argsort(cat2[:,1])\n",
    "  cat2_ordered = cat2[order]\n",
    "  \n",
    "  for id1, (ra1, dec1) in enumerate(cat1):\n",
    "    min_dist = np.inf\n",
    "    min_id2 = None\n",
    "    max_dec = dec1 + max_radius\n",
    "    for id2, (ra2, dec2) in enumerate(cat2_ordered):\n",
    "      if dec2 > max_dec:\n",
    "        break\n",
    "      dist = angular_dist(ra1, dec1, ra2, dec2)\n",
    "      if dist < min_dist:\n",
    "        min_id2 = order[id2]\n",
    "        min_dist = dist\n",
    "    if min_dist > max_radius:\n",
    "      no_matches.append(id1)\n",
    "    else:\n",
    "      matches.append((id1, min_id2, np.degrees(min_dist)))\n",
    "    \n",
    "  time_taken = time.perf_counter() - start\n",
    "  return matches, no_matches, time_taken\n",
    "\n",
    "\n",
    "# The example in the question\n",
    "cat1 = np.array([[180, 30], [45, 10], [300, -45]])\n",
    "cat2 = np.array([[180, 32], [55, 10], [302, -44]])\n",
    "matches, no_matches, time_taken = crossmatch(cat1, cat2, 5)\n",
    "print('matches:', matches)\n",
    "print('unmatched:', no_matches)\n",
    "print('time taken:', time_taken, '\\n')\n",
    "\n",
    "# Test your function on random inputs\n",
    "np.random.seed(0)\n",
    "cat1 = create_cat(10)\n",
    "cat2 = create_cat(20)\n",
    "matches, no_matches, time_taken = crossmatch(cat1, cat2, 5)\n",
    "print('matches:', matches)\n",
    "print('unmatched:', no_matches)\n",
    "print('time taken:', time_taken)"
   ]
  },
  {
   "cell_type": "markdown",
   "metadata": {},
   "source": [
    "#### "
   ]
  },
  {
   "cell_type": "markdown",
   "metadata": {},
   "source": [
    "### Boxing Match : Searching within (δ - r)° < δ° < (δ + r)°"
   ]
  },
  {
   "cell_type": "code",
   "execution_count": 16,
   "metadata": {},
   "outputs": [
    {
     "name": "stdout",
     "output_type": "stream",
     "text": [
      "matches: [(0, 0, 2.0000000000000027), (2, 2, 1.7420109046547023)]\n",
      "unmatched: [1]\n",
      "time taken: 0.044778799999676266 \n",
      "\n",
      "matches: []\n",
      "unmatched: [0, 1, 2, 3, 4, 5, 6, 7, 8, 9]\n",
      "time taken: 0.0005314999998518033\n"
     ]
    }
   ],
   "source": [
    "def crossmatch_boxing(cat1, cat2, max_radius):\n",
    "  start = time.perf_counter()\n",
    "  max_radius = np.radians(max_radius)  \n",
    "  matches, no_matches = [], []\n",
    "\n",
    "  cat1 = np.radians(cat1)\n",
    "  cat2 = np.radians(cat2)\n",
    "  order = np.argsort(cat2[:,1])\n",
    "  cat2_ordered = cat2[order]\n",
    "  \n",
    "  for id1, (ra1, dec1) in enumerate(cat1):\n",
    "    min_dist = np.inf\n",
    "    min_id2 = None\n",
    "    max_dec = dec1 + max_radius\n",
    "    index = np.searchsorted(cat2_ordered[:,1], dec1 - max_radius, side='left')\n",
    "    \n",
    "    for id2, (ra2, dec2) in enumerate(cat2_ordered[index:,:]):\n",
    "      if dec2 > max_dec:\n",
    "        break\n",
    "      dist = angular_dist(ra1, dec1, ra2, dec2)\n",
    "      if dist < min_dist:\n",
    "        min_id2 = order[index:][id2]\n",
    "        min_dist = dist\n",
    "    if min_dist > max_radius:\n",
    "      no_matches.append(id1)\n",
    "    else:\n",
    "      matches.append((id1, min_id2, np.degrees(min_dist)))\n",
    "    \n",
    "  time_taken = time.perf_counter() - start\n",
    "  return matches, no_matches, time_taken\n",
    "\n",
    "\n",
    "# The example in the question\n",
    "cat1 = np.array([[180, 30], [45, 10], [300, -45]])\n",
    "cat2 = np.array([[180, 32], [55, 10], [302, -44]])\n",
    "matches, no_matches, time_taken = crossmatch_boxing(cat1, cat2, 5)\n",
    "print('matches:', matches)\n",
    "print('unmatched:', no_matches)\n",
    "print('time taken:', time_taken, '\\n')\n",
    "\n",
    "# Test your function on random inputs\n",
    "np.random.seed(0)\n",
    "cat1 = create_cat(10)\n",
    "cat2 = create_cat(20)\n",
    "matches, no_matches, time_taken = crossmatch_boxing(cat1, cat2, 5)\n",
    "print('matches:', matches)\n",
    "print('unmatched:', no_matches)\n",
    "print('time taken:', time_taken)"
   ]
  },
  {
   "cell_type": "markdown",
   "metadata": {},
   "source": [
    "#### "
   ]
  },
  {
   "cell_type": "markdown",
   "metadata": {},
   "source": [
    "### Crossmatching with k-d Trees"
   ]
  },
  {
   "cell_type": "code",
   "execution_count": 17,
   "metadata": {},
   "outputs": [
    {
     "name": "stdout",
     "output_type": "stream",
     "text": [
      "matches: [(0, 0, 2.0000000000000036), (2, 2, 1.7420109046547163)]\n",
      "unmatched: [1]\n",
      "time taken: 2.324950500000341 \n",
      "\n",
      "matches: []\n",
      "unmatched: [0, 1, 2, 3, 4, 5, 6, 7, 8, 9]\n",
      "time taken: 0.005834800000229734\n"
     ]
    }
   ],
   "source": [
    "def crossmatch_kd(cat1, cat2, dist):\n",
    "  start = time.perf_counter()\n",
    "  sky_cat1 = SkyCoord(cat1*u.degree, frame='icrs')\n",
    "  sky_cat2 = SkyCoord(cat2*u.degree, frame='icrs')\n",
    "  closest_ids, closest_dists, closest_dists3d = sky_cat1.match_to_catalog_sky(sky_cat2) \n",
    "  matches, no_matches = [], []\n",
    "  for i, ele in enumerate(closest_dists.value):\n",
    "    if  ele < dist:\n",
    "      matches.append((i, closest_ids[i], ele))\n",
    "    else:\n",
    "      no_matches.append(i)\n",
    "  seconds = time.perf_counter() - start\n",
    "  return matches, no_matches, seconds\n",
    "\n",
    "\n",
    "# The example in the question\n",
    "cat1 = np.array([[180, 30], [45, 10], [300, -45]])\n",
    "cat2 = np.array([[180, 32], [55, 10], [302, -44]])\n",
    "matches, no_matches, time_taken = crossmatch_kd(cat1, cat2, 5)\n",
    "print('matches:', matches)\n",
    "print('unmatched:', no_matches)\n",
    "print('time taken:', time_taken, '\\n')\n",
    "\n",
    "# Test your function on random inputs\n",
    "np.random.seed(0)\n",
    "cat1 = create_cat(10)\n",
    "cat2 = create_cat(20)\n",
    "matches, no_matches, time_taken = crossmatch_kd(cat1, cat2, 5)\n",
    "print('matches:', matches)\n",
    "print('unmatched:', no_matches)\n",
    "print('time taken:', time_taken)"
   ]
  }
 ],
 "metadata": {
  "kernelspec": {
   "display_name": "Python 3",
   "language": "python",
   "name": "python3"
  },
  "language_info": {
   "codemirror_mode": {
    "name": "ipython",
    "version": 3
   },
   "file_extension": ".py",
   "mimetype": "text/x-python",
   "name": "python",
   "nbconvert_exporter": "python",
   "pygments_lexer": "ipython3",
   "version": "3.7.7"
  }
 },
 "nbformat": 4,
 "nbformat_minor": 4
}
