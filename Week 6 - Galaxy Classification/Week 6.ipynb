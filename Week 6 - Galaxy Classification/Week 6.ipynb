{
 "cells": [
  {
   "cell_type": "markdown",
   "metadata": {},
   "source": [
    "# Week 6 - Galaxy Classification\n",
    "#### "
   ]
  },
  {
   "cell_type": "code",
   "execution_count": 4,
   "metadata": {},
   "outputs": [],
   "source": [
    "import numpy as np\n",
    "from sklearn.tree import DecisionTreeClassifier\n",
    "from matplotlib import pyplot as plt\n",
    "from sklearn.metrics import confusion_matrix\n",
    "from sklearn.model_selection import cross_val_predict\n",
    "from sklearn.ensemble import RandomForestClassifier\n",
    "from support_functions import generate_features_targets, plot_confusion_matrix, calculate_accuracy"
   ]
  },
  {
   "cell_type": "markdown",
   "metadata": {},
   "source": [
    "### Loading the Galaxy Zoo Data"
   ]
  },
  {
   "cell_type": "code",
   "execution_count": 5,
   "metadata": {},
   "outputs": [],
   "source": [
    "data = np.load('galaxy_catalogue.npy')"
   ]
  },
  {
   "cell_type": "markdown",
   "metadata": {},
   "source": [
    "###### \n",
    "### Splitting the train and test sets"
   ]
  },
  {
   "cell_type": "code",
   "execution_count": 6,
   "metadata": {},
   "outputs": [
    {
     "name": "stdout",
     "output_type": "stream",
     "text": [
      "Number data galaxies: 780\n",
      "Train fraction: 0.7\n",
      "Number of galaxies in training set: 546\n",
      "Number of galaxies in testing set: 234\n"
     ]
    }
   ],
   "source": [
    "def splitdata_train_test(data, fraction_training):\n",
    "  np.random.shuffle(data)\n",
    "  split = int(fraction_training*len(data))\n",
    "  training_set, testing_set = data[:split], data[split:]\n",
    "  return training_set, testing_set\n",
    "  \n",
    "\n",
    "# set the fraction of data which should be in the training set\n",
    "fraction_training = 0.7\n",
    "\n",
    "# split the data using your function\n",
    "training, testing = splitdata_train_test(data, fraction_training)\n",
    "\n",
    "# print the key values\n",
    "print('Number data galaxies:', len(data))\n",
    "print('Train fraction:', fraction_training)\n",
    "print('Number of galaxies in training set:', len(training))\n",
    "print('Number of galaxies in testing set:', len(testing))"
   ]
  },
  {
   "cell_type": "markdown",
   "metadata": {},
   "source": [
    "###### \n",
    "### Generating features and targets"
   ]
  },
  {
   "cell_type": "code",
   "execution_count": 7,
   "metadata": {},
   "outputs": [
    {
     "name": "stdout",
     "output_type": "stream",
     "text": [
      "Features shape: (780, 13)\n",
      "Targets shape: (780,)\n"
     ]
    }
   ],
   "source": [
    "def generate_features_targets(data):\n",
    "  targets = data['class']\n",
    "\n",
    "  features = np.empty(shape=(len(data), 13))\n",
    "  features[:, 0] = data['u-g']\n",
    "  features[:, 1] = data['g-r']\n",
    "  features[:, 2] = data['r-i']\n",
    "  features[:, 3] = data['i-z']\n",
    "  features[:, 4] = data['ecc']\n",
    "  features[:, 5] = data['m4_u']\n",
    "  features[:, 6] = data['m4_g']\n",
    "  features[:, 7] = data['m4_r']\n",
    "  features[:, 8] = data['m4_i']\n",
    "  features[:, 9] = data['m4_z']\n",
    "\n",
    "  # concentration in u filter\n",
    "  features[:, 10] = data['petroR50_u']/data['petroR90_u'] \n",
    "  # concentration in r filter\n",
    "  features[:, 11] = data['petroR50_r']/data['petroR90_r']\n",
    "  # concentration in z filter\n",
    "  features[:, 12] = data['petroR50_z']/data['petroR90_z']\n",
    "\n",
    "  return features, targets\n",
    "\n",
    "\n",
    "features, targets = generate_features_targets(data)\n",
    "\n",
    "# Print the shape of each array to check the arrays are the correct dimensions\n",
    "print(\"Features shape:\", features.shape)\n",
    "print(\"Targets shape:\", targets.shape)"
   ]
  },
  {
   "cell_type": "markdown",
   "metadata": {},
   "source": [
    "###### \n",
    "### Train the decision tree classifier"
   ]
  },
  {
   "cell_type": "code",
   "execution_count": 8,
   "metadata": {},
   "outputs": [
    {
     "name": "stdout",
     "output_type": "stream",
     "text": [
      "Some initial results...\n",
      "\n",
      "   predicted,  actual\n",
      "0. spiral, spiral\n",
      "1. merger, merger\n",
      "2. spiral, spiral\n",
      "3. elliptical, elliptical\n",
      "4. merger, merger\n",
      "5. spiral, spiral\n",
      "6. spiral, spiral\n",
      "7. merger, merger\n",
      "8. merger, spiral\n",
      "9. merger, merger\n"
     ]
    }
   ],
   "source": [
    "def dtc_predict_actual(data):\n",
    "  # split the data into training and testing sets using a training fraction of 0.7\n",
    "  train_set, test_set = splitdata_train_test(data, 0.7)\n",
    "  \n",
    "  # generate the feature and targets for the training and test sets\n",
    "  train_features, train_targets = generate_features_targets(train_set)\n",
    "  test_features, test_targets = generate_features_targets(test_set)\n",
    "  \n",
    "  # instantiate a decision tree classifier\n",
    "  model = DecisionTreeClassifier()\n",
    "\n",
    "  # train the classifier with the train_features and train_targets\n",
    "  model.fit(train_features, train_targets)\n",
    "  \n",
    "  # get predictions for the test_features\n",
    "  predictions = model.predict(test_features)\n",
    "\n",
    "  # return the predictions and the test_targets\n",
    "  return predictions, test_targets\n",
    "\n",
    "\n",
    "predicted_class, actual_class = dtc_predict_actual(data)\n",
    "\n",
    "# Print some of the initial results\n",
    "print(\"Some initial results...\\n\\n   predicted,  actual\")\n",
    "for i in range(10):\n",
    "    print(\"{}. {}, {}\".format(i, predicted_class[i], actual_class[i]))\n"
   ]
  },
  {
   "cell_type": "markdown",
   "metadata": {},
   "source": [
    "###### \n",
    "### Accuracy in classification"
   ]
  },
  {
   "cell_type": "code",
   "execution_count": 9,
   "metadata": {},
   "outputs": [
    {
     "name": "stdout",
     "output_type": "stream",
     "text": [
      "Our accuracy score: 0.7923076923076923\n",
      "Confusion matrix, without normalization\n",
      "[[232   4  24]\n",
      " [  4 206  50]\n",
      " [ 26  54 180]]\n"
     ]
    },
    {
     "data": {
      "image/png": "[encoded data removed]",
      "text/plain": [
       "<Figure size 432x288 with 2 Axes>"
      ]
     },
     "metadata": {
      "needs_background": "light"
     },
     "output_type": "display_data"
    }
   ],
   "source": [
    "def calculate_accuracy(predicted, actual):\n",
    "  correct = actual[predicted == actual]\n",
    "  return len(correct)/len(predicted)\n",
    "\n",
    "features, targets = generate_features_targets(data)\n",
    "\n",
    "# train the model to get predicted and actual classes\n",
    "dtc = DecisionTreeClassifier()\n",
    "predicted = cross_val_predict(dtc, features, targets, cv=10)\n",
    "\n",
    "# calculate the model score using your function\n",
    "model_score = calculate_accuracy(predicted, targets)\n",
    "print(\"Our accuracy score:\", model_score)\n",
    "\n",
    "# calculate the models confusion matrix using sklearns confusion_matrix function\n",
    "class_labels = list(set(targets))\n",
    "model_cm = confusion_matrix(y_true=targets, y_pred=predicted, labels=class_labels)\n",
    "\n",
    "# Plot the confusion matrix using the provided functions.\n",
    "plt.figure()\n",
    "plot_confusion_matrix(model_cm, classes=class_labels, normalize=False)\n",
    "plt.show()"
   ]
  },
  {
   "cell_type": "markdown",
   "metadata": {},
   "source": [
    "###### \n",
    "### Random Forest Classifier"
   ]
  },
  {
   "cell_type": "code",
   "execution_count": 10,
   "metadata": {},
   "outputs": [
    {
     "name": "stdout",
     "output_type": "stream",
     "text": [
      "Accuracy score: 0.8653846153846154\n",
      "Confusion matrix, without normalization\n",
      "[[245   1  14]\n",
      " [  1 218  41]\n",
      " [ 16  32 212]]\n"
     ]
    },
    {
     "data": {
      "image/png": "[encoded data removed]",
      "text/plain": [
       "<Figure size 432x288 with 2 Axes>"
      ]
     },
     "metadata": {
      "needs_background": "light"
     },
     "output_type": "display_data"
    }
   ],
   "source": [
    "def rf_predict_actual(data, n_estimators):\n",
    "  # generate the features and targets\n",
    "  features, targets = generate_features_targets(data)\n",
    "\n",
    "  # instantiate a random forest classifier using n estimators\n",
    "  rfc = RandomForestClassifier(n_estimators = n_estimators)\n",
    "  \n",
    "  # get predictions using 10-fold cross validation with cross_val_predict\n",
    "  predictions = cross_val_predict(rfc, features, targets, cv=10)\n",
    "\n",
    "  # return the predictions and their actual classes\n",
    "  return predictions, targets\n",
    "\n",
    "\n",
    "# get the predicted and actual classes\n",
    "number_estimators = 50              # Number of trees\n",
    "predicted, actual = rf_predict_actual(data, number_estimators)\n",
    "\n",
    "# calculate the model score using your function\n",
    "accuracy = calculate_accuracy(predicted, actual)\n",
    "print(\"Accuracy score:\", accuracy)\n",
    "\n",
    "# calculate the models confusion matrix using sklearns confusion_matrix function\n",
    "class_labels = list(set(actual))\n",
    "model_cm = confusion_matrix(y_true=actual, y_pred=predicted, labels=class_labels)\n",
    "\n",
    "# plot the confusion matrix using the provided functions.\n",
    "plt.figure()\n",
    "plot_confusion_matrix(model_cm, classes=class_labels, normalize=False)\n",
    "plt.show()"
   ]
  }
 ],
 "metadata": {
  "kernelspec": {
   "display_name": "Python 3",
   "language": "python",
   "name": "python3"
  },
  "language_info": {
   "codemirror_mode": {
    "name": "ipython",
    "version": 3
   },
   "file_extension": ".py",
   "mimetype": "text/x-python",
   "name": "python",
   "nbconvert_exporter": "python",
   "pygments_lexer": "ipython3",
   "version": "3.7.7"
  }
 },
 "nbformat": 4,
 "nbformat_minor": 4
}
